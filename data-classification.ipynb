{
 "cells": [
  {
   "cell_type": "markdown",
   "metadata": {},
   "source": [
    "# QXD0178 - Mineração de Dados\n",
    "\n",
    "## Classificação de Dados\n",
    "\n",
    "#### Aluno: Israel Souza Ferreira\n",
    "\n",
    "Este exercício utiliza a base de dados [Food choices: College students' food and cooking preferences](https://www.kaggle.com/datasets/borapajo/food-choices?select=food_coded.csv]) que contém informações sobre hábitos alimentares de um conjunto de estudantes. Este conjunto de dados possui valores ausentes em várias colunas."
   ]
  },
  {
   "cell_type": "markdown",
   "metadata": {
    "jp-MarkdownHeadingCollapsed": true
   },
   "source": [
    "# Imports"
   ]
  },
  {
   "cell_type": "code",
   "execution_count": null,
   "metadata": {},
   "outputs": [],
   "source": [
    "import pandas\n",
    "import numpy \n",
    "from sklearn.model_selection import train_test_split, GridSearchCV"
   ]
  },
  {
   "cell_type": "markdown",
   "metadata": {},
   "source": [
    "* Imports das métricas de classificação"
   ]
  },
  {
   "cell_type": "code",
   "execution_count": null,
   "metadata": {},
   "outputs": [],
   "source": [
    "from sklearn.metrics import accuracy_score\n",
    "from sklearn.metrics import precision_score\n",
    "from sklearn.metrics import f1_score\n",
    "from sklearn.metrics import recall_score "
   ]
  },
  {
   "cell_type": "markdown",
   "metadata": {},
   "source": [
    "* Imports de modelos classificatórios\n",
    "\n"
   ]
  },
  {
   "cell_type": "code",
   "execution_count": null,
   "metadata": {},
   "outputs": [],
   "source": [
    "from sklearn.naive_bayes import GaussianNB\n",
    "from sklearn.svm import SVC\n",
    "from sklearn.neighbors import KNeighborsClassifier\n",
    "from sklearn.tree import DecisionTreeClassifier\n",
    "from sklearn.ensemble import RandomForestClassifier"
   ]
  },
  {
   "cell_type": "markdown",
   "metadata": {},
   "source": [
    "* Import da técnica de validação cruzada"
   ]
  },
  {
   "cell_type": "code",
   "execution_count": null,
   "metadata": {},
   "outputs": [],
   "source": [
    "from sklearn.model_selection import cross_val_score, KFold"
   ]
  },
  {
   "cell_type": "markdown",
   "metadata": {
    "jp-MarkdownHeadingCollapsed": true
   },
   "source": [
    "# Instanciação da base de dados\n"
   ]
  },
  {
   "cell_type": "code",
   "execution_count": null,
   "metadata": {},
   "outputs": [],
   "source": [
    "dataframe = pandas.read_csv(\"https://raw.githubusercontent.com/She-Codes-Now/Intro-to-Data-Science-with-R/master/food_coded.csv\")"
   ]
  },
  {
   "cell_type": "markdown",
   "metadata": {
    "jp-MarkdownHeadingCollapsed": true
   },
   "source": [
    "# Funções"
   ]
  },
  {
   "cell_type": "code",
   "execution_count": null,
   "metadata": {},
   "outputs": [],
   "source": [
    "def parse_int(value):\n",
    "    try:\n",
    "        return int(value)\n",
    "    except ValueError:\n",
    "        return numpy.nan\n",
    "    \n",
    "def parse_float(value):\n",
    "    try:\n",
    "        return float(value)\n",
    "    except ValueError:\n",
    "        return numpy.nan\n",
    "\n",
    "def to_calories_scone(value):\n",
    "    if value == 107:\n",
    "        return 1\n",
    "    elif value == 315:\n",
    "        return 2\n",
    "    elif value == 420:\n",
    "        return 3\n",
    "    elif value == 980:\n",
    "        return 4\n",
    "    else: \n",
    "        return numpy.nan\n",
    "    \n",
    "def to_tortilla_calories(value):\n",
    "    if value == 580:\n",
    "        return 1\n",
    "    elif value == 725:\n",
    "        return 2\n",
    "    elif value == 940:\n",
    "        return 3\n",
    "    elif value == 1165:\n",
    "        return 4\n",
    "    else: \n",
    "        return numpy.nan\n",
    "\n",
    "def to_turkey_calories(value):\n",
    "    if value == 345:\n",
    "        return 1\n",
    "    elif value == 500:\n",
    "        return 2\n",
    "    elif value == 690:\n",
    "        return 3\n",
    "    elif value == 850:\n",
    "        return 4\n",
    "    else: \n",
    "        return numpy.nan\n",
    "    \n",
    "def to_waffle_calories(value):\n",
    "    if value == 575:\n",
    "        return 1\n",
    "    elif value == 760:\n",
    "        return 2\n",
    "    elif value == 900:\n",
    "        return 3\n",
    "    elif value == 1315:\n",
    "        return 4\n",
    "    else: \n",
    "        return numpy.nan\n",
    "\n",
    "def to_calories_chicken(value):\n",
    "    if value == 265:\n",
    "        return 1\n",
    "    elif value == 760:\n",
    "        return 2\n",
    "    elif value == 610:\n",
    "        return 3\n",
    "    elif value == 720:\n",
    "        return 4\n",
    "    else: \n",
    "        return numpy.nan     "
   ]
  },
  {
   "cell_type": "markdown",
   "metadata": {
    "jp-MarkdownHeadingCollapsed": true
   },
   "source": [
    "# 1. Pré-processamento"
   ]
  },
  {
   "cell_type": "markdown",
   "metadata": {},
   "source": [
    "Ajustes"
   ]
  },
  {
   "cell_type": "code",
   "execution_count": null,
   "metadata": {},
   "outputs": [],
   "source": [
    "### Ajuste do atributo: GPA\n",
    "\n",
    "dataframe['GPA'] = dataframe['GPA'].apply(parse_float) \n",
    "dataframe['GPA'].fillna(dataframe['GPA'].median(), inplace = True)\n",
    "\n",
    "### Ajuste do atributo: calories_day\n",
    "\n",
    "dataframe['calories_day'] = dataframe['calories_day'].apply(parse_int)\n",
    "dataframe['calories_day'].fillna(dataframe['calories_day'].mean(), inplace = True)\n",
    "\n",
    "### Ajuste do atributo: calories_scone\n",
    "       \n",
    "dataframe['calories_scone'] = dataframe['calories_scone'].apply(parse_int)\n",
    "dataframe['calories_scone'].fillna(dataframe['calories_scone'].mean(), inplace = True)\n",
    "\n",
    "### Ajuste do atributo: comfort_food\n",
    "\n",
    "dataframe['comfort_food'] = dataframe['comfort_food'].replace('none|None.|None', numpy.nan, regex = True)\n",
    "dataframe['comfort_food'].fillna('Sem resposta', inplace = True)\n",
    "\n",
    "### Ajuste do atributo: comfort_food_reasons\n",
    "\n",
    "dataframe['comfort_food_reasons'] = dataframe['comfort_food_reasons'].replace('none|None.|None', numpy.nan, regex = True)\n",
    "dataframe['comfort_food_reasons'].fillna('Sem resposta', inplace = True)\n",
    "\n",
    "### Ajuste do atributo: comfort_food_reasons_coded\n",
    "\n",
    "dataframe['comfort_food_reasons_coded'] = dataframe['comfort_food_reasons_coded'].apply(parse_int)\n",
    "dataframe['comfort_food_reasons_coded'].fillna(dataframe['comfort_food_reasons_coded'].mean(), inplace = True)\n",
    "\n",
    "### Ajuste do atributo: cook\n",
    "\n",
    "dataframe['cook'] = dataframe['cook'].apply(parse_int)\n",
    "dataframe['cook'].fillna(dataframe['cook'].mean(), inplace = True)\n",
    "\n",
    "### Ajuste do atributo: cuisine\n",
    "\n",
    "dataframe['cuisine'] = dataframe['cook'].apply(parse_int)\n",
    "dataframe['cuisine'].fillna(dataframe['cook'].mean(), inplace = True)\n",
    "\n",
    "### Ajuste do atributo: diet_current\n",
    "\n",
    "dataframe['diet_current'] = dataframe['diet_current'].replace('none|None.|None', numpy.nan, regex = True)\n",
    "dataframe['diet_current'].fillna('Sem resposta', inplace = True)\n",
    "\n",
    "### Ajuste do atributo: diet_current_coded\n",
    "\n",
    "dataframe['diet_current_coded'] = dataframe['diet_current_coded'].apply(parse_int)\n",
    "dataframe['diet_current_coded'].fillna(dataframe['diet_current_coded'].mean(), inplace = True)\n",
    "\n",
    "### Ajuste do atributo: drink\n",
    "\n",
    "dataframe['drink'] = dataframe['drink'].apply(parse_int)\n",
    "dataframe['drink'].fillna(dataframe['drink'].mode()[0], inplace = True)\n",
    "dataframe['drink'].isna().any()\n",
    "\n",
    "### Ajuste do atributo: eating_changes\n",
    "\n",
    "dataframe['eating_changes'] = dataframe['eating_changes'].replace('none|None.|None', numpy.nan, regex = True)\n",
    "dataframe['eating_changes'].fillna('Sem resposta', inplace = True)\n",
    "\n",
    "### Ajuste do atributo: employment\n",
    "\n",
    "dataframe['employment'] = dataframe['employment'].apply(parse_int)\n",
    "dataframe['employment'].fillna(dataframe['employment'].mean(), inplace = True)\n",
    "\n",
    "### Ajuste do atributo: exercise\n",
    "\n",
    "dataframe['exercise'] = dataframe['exercise'].apply(parse_int)\n",
    "dataframe['exercise'].fillna(dataframe['exercise'].mean(), inplace = True)\n",
    "\n",
    "### Ajuste do atributo: father_education\n",
    "\n",
    "dataframe['father_education'] = dataframe['father_education'].apply(parse_int)\n",
    "dataframe['father_education'].fillna(dataframe['father_education'].mean(), inplace = True)\n",
    "\n",
    "### Ajuste do atributo: father_profession\n",
    "\n",
    "dataframe['father_profession'] = dataframe['father_profession'].replace('none|None.|None', numpy.nan, regex = True)\n",
    "dataframe['father_profession'].fillna('Sem resposta', inplace = True)\n",
    "\n",
    "### Ajuste do atributo: fav_cuisine\n",
    "\n",
    "dataframe['fav_cuisine'] = dataframe['fav_cuisine'].replace('none|None.|None', numpy.nan, regex = True)\n",
    "dataframe['fav_cuisine'].fillna('Sem resposta', inplace = True)\n",
    "### Ajuste do atributo: fav_food\n",
    "\n",
    "dataframe['fav_food'] = dataframe['fav_food'].apply(parse_int)\n",
    "dataframe['fav_food'].fillna(dataframe['fav_food'].mode()[0], inplace = True)\n",
    "\n",
    "### Ajuste do atributo: food_childhood\n",
    "\n",
    "dataframe['food_childhood'] = dataframe['food_childhood'].replace('none|None.|None', numpy.nan, regex = True)\n",
    "dataframe['food_childhood'].fillna('Sem resposta', inplace = True)\n",
    "\n",
    "### Ajuste do atributo: healthy_meal\n",
    "\n",
    "dataframe['healthy_meal'] = dataframe['healthy_meal'].replace('none|None.|None', numpy.nan, regex = True)\n",
    "dataframe['healthy_meal'].fillna('Sem resposta', inplace = True)\n",
    "\n",
    "### Ajuste do atributo: ideal_diet\n",
    "\n",
    "dataframe['ideal_diet'] = dataframe['ideal_diet'].replace('none|None.|None', numpy.nan, regex = True)\n",
    "dataframe['ideal_diet'].fillna('Sem resposta', inplace = True)\n",
    "\n",
    "### Ajuste do atributo: income\n",
    "\n",
    "dataframe['income'] = dataframe['income'].apply(parse_int)\n",
    "dataframe['income'].fillna(dataframe['income'].mean(), inplace = True)\n",
    "\n",
    "### Ajuste do atributo: life_rewarding\n",
    "\n",
    "dataframe['life_rewarding'] = dataframe['life_rewarding'].apply(parse_int)\n",
    "dataframe['life_rewarding'].fillna(dataframe['life_rewarding'].mean(), inplace = True)\n",
    "\n",
    "### Ajuste do atributo: marital_status\n",
    "\n",
    "dataframe['marital_status'] = dataframe['marital_status'].apply(parse_int)\n",
    "dataframe['marital_status'].fillna(dataframe['marital_status'].mean(), inplace = True)\n",
    "### Ajuste do atributo: meals_dinner_friend\n",
    "\n",
    "dataframe['meals_dinner_friend'] = dataframe['meals_dinner_friend'].replace('none|None.|None', numpy.nan, regex = True)\n",
    "dataframe['meals_dinner_friend'].fillna('Sem resposta', inplace = True)\n",
    "### Ajuste do atributo: mother_education\n",
    "\n",
    "dataframe['mother_education'] = dataframe['mother_education'].apply(parse_int)\n",
    "dataframe['mother_education'].fillna(dataframe['mother_education'].mean(), inplace = True)\n",
    "### Ajuste do atributo: mother_profession\n",
    "\n",
    "dataframe['mother_profession'] = dataframe['mother_profession'].replace('none|None.|None', numpy.nan, regex = True)\n",
    "dataframe['mother_profession'].fillna('Sem resposta', inplace = True)\n",
    "\n",
    "### Ajuste do atributo: on_off_campus\n",
    "\n",
    "dataframe['on_off_campus'] = dataframe['on_off_campus'].apply(parse_int)\n",
    "dataframe['on_off_campus'].fillna(dataframe['on_off_campus'].mean(), inplace = True)\n",
    "### Ajuste do atributo: persian_food\n",
    "\n",
    "dataframe['persian_food'] = dataframe['persian_food'].apply(parse_int)\n",
    "dataframe['persian_food'].fillna(dataframe['persian_food'].mean(), inplace = True)\n",
    "\n",
    "### Ajuste do atributo: soup\n",
    "\n",
    "dataframe['soup'] = dataframe['soup'].apply(parse_int)\n",
    "dataframe['soup'].fillna(dataframe['soup'].mode()[0], inplace = True)\n",
    "### Ajuste do atributo: sports\n",
    "\n",
    "dataframe['sports'].fillna(dataframe['sports'].mean(), inplace = True)\n",
    "dataframe['sports'] = dataframe['sports'].apply(parse_int)\n",
    "\n",
    "### Ajuste do atributo: tortilla_calories\n",
    "\n",
    "dataframe['tortilla_calories'] = dataframe['tortilla_calories'].apply(parse_int)\n",
    "dataframe['tortilla_calories'].fillna(dataframe['tortilla_calories'].mean(), inplace = True)\n",
    "### Ajuste do atributo: type_sports\n",
    "\n",
    "dataframe['type_sports'] = dataframe['type_sports'].replace('none|None.|None', numpy.nan, regex = True)\n",
    "dataframe['type_sports'].fillna('Sem resposta', inplace = True)\n",
    "\n",
    "### Ajuste do atributo: weight\n",
    "dataframe['weight'] = dataframe['weight'].apply(parse_int)\n",
    "dataframe['weight'].fillna(dataframe['weight'].median(), inplace = True)\n",
    "\n",
    "### Ajuste do atributo: self_perception_weight\n",
    "\n",
    "dataframe['self_perception_weight'] = dataframe['self_perception_weight'].apply(parse_int)\n",
    "dataframe['self_perception_weight'].fillna(dataframe['self_perception_weight'].mean(), inplace = True)\n",
    "\n",
    "## Coluna calories_scone\n",
    "\n",
    "dataframe['calories_scone'] = dataframe['calories_scone'].apply(to_calories_scone)\n",
    "dataframe['calories_scone'].fillna(dataframe['calories_scone'].mean(), inplace = True)\n",
    "dataframe['calories_scone'] = dataframe['calories_scone'].apply(parse_int)\n",
    "\n",
    "## Coluna tortilla_calories\n",
    "\n",
    "dataframe['tortilla_calories'] = dataframe['tortilla_calories'].apply(to_tortilla_calories)\n",
    "dataframe['tortilla_calories'].fillna(dataframe['tortilla_calories'].mean(), inplace = True)\n",
    "dataframe['tortilla_calories'] = dataframe['tortilla_calories'].apply(parse_int)\n",
    "\n",
    "## Coluna waffle_calories\n",
    "\n",
    "dataframe['waffle_calories'] = dataframe['waffle_calories'].apply(to_waffle_calories)\n",
    "dataframe['waffle_calories'].fillna(dataframe['waffle_calories'].mean(), inplace = True)\n",
    "dataframe['waffle_calories'] = dataframe['waffle_calories'].apply(parse_int)\n",
    "\n",
    "## Coluna calories_chicken\n",
    "\n",
    "dataframe['calories_chicken'] = dataframe['calories_chicken'].apply(to_calories_chicken)\n",
    "dataframe['calories_chicken'].fillna(dataframe['calories_chicken'].mean(), inplace = True)\n",
    "dataframe['calories_chicken'] = dataframe['calories_chicken'].apply(parse_int)"
   ]
  },
  {
   "cell_type": "markdown",
   "metadata": {},
   "source": [
    "Retirando todas as colunas que são do tipo string\n"
   ]
  },
  {
   "cell_type": "markdown",
   "metadata": {},
   "source": [
    "* Motivação"
   ]
  },
  {
   "cell_type": "markdown",
   "metadata": {},
   "source": [
    "Todos as colunas que são do tipo strings foram retirados porque a maioria de suas respostas não tem teriam tanta influência nas previsões de dados "
   ]
  },
  {
   "cell_type": "code",
   "execution_count": null,
   "metadata": {},
   "outputs": [],
   "source": [
    "# # dataframe['ideal_diet']\n",
    "# dataframe.select_dtypes(include=['object'])\n",
    "dataframe = dataframe.select_dtypes(exclude = ['object'])\n",
    "# dataframe['comfort_food_reasons_coded']"
   ]
  },
  {
   "cell_type": "markdown",
   "metadata": {},
   "source": [
    "Criando a coluna 'self_perception_overweight'"
   ]
  },
  {
   "cell_type": "code",
   "execution_count": null,
   "metadata": {},
   "outputs": [],
   "source": [
    "dataframe['self_perception_overweight'] = dataframe['self_perception_weight'].isin([4, 5])"
   ]
  },
  {
   "cell_type": "markdown",
   "metadata": {},
   "source": [
    "Deletando a coluna 'self_perception_weight'"
   ]
  },
  {
   "cell_type": "code",
   "execution_count": null,
   "metadata": {},
   "outputs": [],
   "source": [
    "dataframe = dataframe.drop('self_perception_weight', axis = 1)"
   ]
  },
  {
   "cell_type": "markdown",
   "metadata": {
    "jp-MarkdownHeadingCollapsed": true
   },
   "source": [
    "# 2. Divisão do conjunto de dados\n"
   ]
  },
  {
   "cell_type": "markdown",
   "metadata": {},
   "source": [
    "Extraindo a matriz de características e o vetor de rótulos"
   ]
  },
  {
   "cell_type": "code",
   "execution_count": null,
   "metadata": {},
   "outputs": [],
   "source": [
    "X_food_choices = dataframe.drop('self_perception_overweight', axis = 1)\n",
    "X_food_choices.shape\n",
    "y_food_choices = dataframe['self_perception_overweight']\n",
    "y_food_choices.shape"
   ]
  },
  {
   "cell_type": "markdown",
   "metadata": {},
   "source": [
    "Separando conjunto teste e conjunto treinamento"
   ]
  },
  {
   "cell_type": "code",
   "execution_count": null,
   "metadata": {},
   "outputs": [],
   "source": [
    "Xtrain, Xtest, ytrain, ytest = train_test_split(X_food_choices, y_food_choices, random_state = 1)"
   ]
  },
  {
   "cell_type": "markdown",
   "metadata": {
    "jp-MarkdownHeadingCollapsed": true
   },
   "source": [
    "# 3. Seleção de algoritmos de classificação:\n"
   ]
  },
  {
   "cell_type": "markdown",
   "metadata": {},
   "source": [
    "Algoritmos de aprendizado de máquina escolhidos"
   ]
  },
  {
   "cell_type": "markdown",
   "metadata": {},
   "source": [
    "* Naive Bayes\n",
    "\n",
    "Baseia-se na dedução de um modelo generativo, ou seja, uma hipotética classificação para os dados, e calcular a probabilidade de pertencimento de um novo dado utilizando o teorema de bayes."
   ]
  },
  {
   "cell_type": "markdown",
   "metadata": {},
   "source": [
    "* k-Nearest Neighbors\n",
    "\n",
    "Todo novo dado é rotulado a partir da escolha de um hiperparâmetro 'k', da quantidade de vizinhos próximos a ele, utilizando a função de distância euclidiana."
   ]
  },
  {
   "cell_type": "markdown",
   "metadata": {},
   "source": [
    "* Support Vector Machine(Linear)\n",
    "\n",
    "É fundamentado em encontrar uma forma discriminatória, uma função linear, que melhor separa os grupos de dados. Dentre as diversas funções lineares possíveis, é escolhida aquela que maximiza a margem entre os grupos. Os pontos que tocam essa margem são designados como **vetores de suporte**, sendo que o ajuste da função ocorre exclusivamente com base neles, não levando em consideração os outros pontos fora dessa margem. Este método visa encontrar a separação linear mais eficaz entre as classes, proporcionando robustez e capacidade de generalização para novos dados.\n",
    "\n"
   ]
  },
  {
   "cell_type": "markdown",
   "metadata": {},
   "source": [
    "* Support Vector Machine(RBF)\n",
    "\n",
    "É utilizado quando a separação ideal entre os grupos de dados não pode ser alcançada por meio de uma função linear. Nesses casos, aplica-se o truque do kernel, que envolve o aumento da dimensão do conjunto de dados para possibilitar uma separação linear eficaz.\n",
    "\n",
    "Quando mesmo isso não é suficiente, o modelo suaviza as margens, permitindo que alguns pontos ultrapassem essas margens. Isso significa que a classificação não é estritamente rígida, e alguns erros são tolerados.\n",
    "\n",
    "\n"
   ]
  },
  {
   "cell_type": "markdown",
   "metadata": {},
   "source": [
    "* Decision Trees\n",
    "\n",
    "As árvores de decisão são algoritmos de aprendizado de máquina que modelam decisões por meio de uma estrutura de árvore. O processo de construção envolve dividir os dados com base nas características mais informativas, resultando em ramos da árvore que representam diferentes caminhos de decisão. Cada nó interno da árvore representa uma condição, cada ramo representa uma escolha e as folhas representam as decisões ou as saídas do modelo. Durante a previsão, um ponto de dados percorre a árvore, seguindo os ramos de acordo com as condições, até chegar a uma folha que fornece a decisão ou previsão."
   ]
  },
  {
   "cell_type": "markdown",
   "metadata": {},
   "source": [
    "* Random Forest\n",
    "\n",
    "É uma extensão das árvores de decisão. Em vez de depender de uma única árvore, o algoritmo constrói um conjunto de árvores de decisão. Cada árvore é treinada em uma amostra aleatória dos dados, e durante a previsão, as árvores \"votam\" na decisão final."
   ]
  },
  {
   "cell_type": "markdown",
   "metadata": {},
   "source": [
    "* Multilayer Perceptron\n",
    "\n",
    "É uma rede neural usada para classificação em mineração de dados. Ele tem camadas de entrada, ocultas e de saída, onde os neurônios aplicam funções de ativação não lineares. Os pesos entre neurônios são ajustados durante o treinamento usando o algoritmo de retropropagação. O modelo aprende a mapear entradas para saídas por meio de ajustes iterativos nos pesos. Hiperparâmetros, como número de camadas e taxa de aprendizado, são ajustados para otimizar o desempenho. O MLP é eficaz em problemas de classificação, aprendendo representações complexas dos dados."
   ]
  },
  {
   "cell_type": "markdown",
   "metadata": {
    "jp-MarkdownHeadingCollapsed": true
   },
   "source": [
    "# 4. Treinamento e avaliação:\n"
   ]
  },
  {
   "cell_type": "markdown",
   "metadata": {},
   "source": [
    "## Treinamento padrão"
   ]
  },
  {
   "cell_type": "markdown",
   "metadata": {},
   "source": [
    "###  GNB"
   ]
  },
  {
   "cell_type": "code",
   "execution_count": null,
   "metadata": {},
   "outputs": [],
   "source": [
    "modelo = GaussianNB()\n",
    "modelo.fit(Xtrain, ytrain)\n",
    "y_model = modelo.predict(Xtest)"
   ]
  },
  {
   "cell_type": "markdown",
   "metadata": {},
   "source": [
    "#### Acurácia"
   ]
  },
  {
   "cell_type": "code",
   "execution_count": null,
   "metadata": {},
   "outputs": [],
   "source": [
    "acuracia = accuracy_score(ytest, y_model)\n",
    "print(f'Acurácia do modelo: {acuracia * 100:.2f}%')"
   ]
  },
  {
   "cell_type": "markdown",
   "metadata": {},
   "source": [
    "#### Precisão"
   ]
  },
  {
   "cell_type": "code",
   "execution_count": null,
   "metadata": {},
   "outputs": [],
   "source": [
    "precisao = precision_score(ytest, y_model)\n",
    "print(f'Precisão do modelo: {precisao * 100:.2f}%')"
   ]
  },
  {
   "cell_type": "markdown",
   "metadata": {},
   "source": [
    "#### Recall"
   ]
  },
  {
   "cell_type": "code",
   "execution_count": null,
   "metadata": {},
   "outputs": [],
   "source": [
    "recall = recall_score(ytest, y_model)\n",
    "print(f'recall do modelo: {precisao * 100:.2f}%')"
   ]
  },
  {
   "cell_type": "markdown",
   "metadata": {},
   "source": [
    "#### F1-score"
   ]
  },
  {
   "cell_type": "code",
   "execution_count": null,
   "metadata": {},
   "outputs": [],
   "source": [
    "f1 = f1_score(ytest, y_model)\n",
    "\n",
    "print(f'F1-score do modelo: {f1 * 100:.2f}%')"
   ]
  },
  {
   "cell_type": "markdown",
   "metadata": {},
   "source": [
    "### KNN"
   ]
  },
  {
   "cell_type": "code",
   "execution_count": null,
   "metadata": {},
   "outputs": [],
   "source": [
    "modelo = KNeighborsClassifier()\n",
    "modelo.fit(Xtrain, ytrain)\n",
    "y_model = modelo.predict(Xtest)"
   ]
  },
  {
   "cell_type": "markdown",
   "metadata": {},
   "source": [
    "#### Acurácia"
   ]
  },
  {
   "cell_type": "code",
   "execution_count": null,
   "metadata": {},
   "outputs": [],
   "source": [
    "acuracia = accuracy_score(ytest, y_model)\n",
    "print(f'Acurácia do modelo: {acuracia * 100:.2f}%')"
   ]
  },
  {
   "cell_type": "markdown",
   "metadata": {},
   "source": [
    "#### Precisão"
   ]
  },
  {
   "cell_type": "code",
   "execution_count": null,
   "metadata": {},
   "outputs": [],
   "source": [
    "precisao = precision_score(ytest, y_model)\n",
    "print(f'Precisão do modelo: {precisao * 100:.2f}%')"
   ]
  },
  {
   "cell_type": "markdown",
   "metadata": {},
   "source": [
    "#### Recall"
   ]
  },
  {
   "cell_type": "code",
   "execution_count": null,
   "metadata": {},
   "outputs": [],
   "source": [
    "recall = recall_score(ytest, y_model)\n",
    "print(f'recall do modelo: {precisao * 100:.2f}%')"
   ]
  },
  {
   "cell_type": "markdown",
   "metadata": {},
   "source": [
    "#### F1-score"
   ]
  },
  {
   "cell_type": "code",
   "execution_count": null,
   "metadata": {},
   "outputs": [],
   "source": [
    "f1 = f1_score(ytest, y_model)\n",
    "\n",
    "print(f'F1-score do modelo: {f1 * 100:.2f}%')"
   ]
  },
  {
   "cell_type": "markdown",
   "metadata": {},
   "source": [
    "###  SVM(Linear)"
   ]
  },
  {
   "cell_type": "code",
   "execution_count": null,
   "metadata": {},
   "outputs": [],
   "source": [
    "modelo = SVC(kernel = 'linear', C = 1E10)\n",
    "modelo.fit(Xtrain, ytrain)\n",
    "y_model = modelo.predict(Xtest)"
   ]
  },
  {
   "cell_type": "markdown",
   "metadata": {},
   "source": [
    "#### Acurácia"
   ]
  },
  {
   "cell_type": "code",
   "execution_count": null,
   "metadata": {},
   "outputs": [],
   "source": [
    "acuracia = accuracy_score(ytest, y_model)\n",
    "print(f'Acurácia do modelo: {acuracia * 100:.2f}%')"
   ]
  },
  {
   "cell_type": "markdown",
   "metadata": {},
   "source": [
    "#### Precisão"
   ]
  },
  {
   "cell_type": "code",
   "execution_count": null,
   "metadata": {},
   "outputs": [],
   "source": [
    "precisao = precision_score(ytest, y_model)\n",
    "print(f'Precisão do modelo: {precisao * 100:.2f}%')"
   ]
  },
  {
   "cell_type": "markdown",
   "metadata": {},
   "source": [
    "#### Recall"
   ]
  },
  {
   "cell_type": "code",
   "execution_count": null,
   "metadata": {},
   "outputs": [],
   "source": [
    "recall = recall_score(ytest, y_model)\n",
    "print(f'recall do modelo: {precisao * 100:.2f}%')"
   ]
  },
  {
   "cell_type": "markdown",
   "metadata": {},
   "source": [
    "#### F1-Score"
   ]
  },
  {
   "cell_type": "code",
   "execution_count": null,
   "metadata": {},
   "outputs": [],
   "source": [
    "f1 = f1_score(ytest, y_model)\n",
    "\n",
    "print(f'F1-score do modelo: {f1 * 100:.2f}%')"
   ]
  },
  {
   "cell_type": "markdown",
   "metadata": {},
   "source": [
    "### Decision Tree"
   ]
  },
  {
   "cell_type": "code",
   "execution_count": null,
   "metadata": {},
   "outputs": [],
   "source": [
    "modelo = DecisionTreeClassifier()\n",
    "modelo.fit(Xtrain, ytrain)\n",
    "y_model = modelo.predict(Xtest)"
   ]
  },
  {
   "cell_type": "markdown",
   "metadata": {},
   "source": [
    "#### Acurácia"
   ]
  },
  {
   "cell_type": "code",
   "execution_count": null,
   "metadata": {},
   "outputs": [],
   "source": [
    "acuracia = accuracy_score(ytest, y_model)\n",
    "print(f'Acurácia do modelo: {acuracia * 100:.2f}%')"
   ]
  },
  {
   "cell_type": "markdown",
   "metadata": {},
   "source": [
    "#### Precisão"
   ]
  },
  {
   "cell_type": "code",
   "execution_count": null,
   "metadata": {},
   "outputs": [],
   "source": [
    "precisao = precision_score(ytest, y_model)\n",
    "print(f'Precisão do modelo: {precisao * 100:.2f}%')"
   ]
  },
  {
   "cell_type": "markdown",
   "metadata": {},
   "source": [
    "#### Recall"
   ]
  },
  {
   "cell_type": "code",
   "execution_count": null,
   "metadata": {},
   "outputs": [],
   "source": [
    "recall = recall_score(ytest, y_model)\n",
    "print(f'recall do modelo: {precisao * 100:.2f}%')"
   ]
  },
  {
   "cell_type": "markdown",
   "metadata": {},
   "source": [
    "#### F1-Score"
   ]
  },
  {
   "cell_type": "code",
   "execution_count": null,
   "metadata": {},
   "outputs": [],
   "source": [
    "f1 = f1_score(ytest, y_model)\n",
    "\n",
    "print(f'F1-score do modelo: {f1 * 100:.2f}%')"
   ]
  },
  {
   "cell_type": "markdown",
   "metadata": {},
   "source": [
    "### Random Forest"
   ]
  },
  {
   "cell_type": "code",
   "execution_count": null,
   "metadata": {},
   "outputs": [],
   "source": [
    "modelo = RandomForestClassifier()\n",
    "modelo.fit(Xtrain, ytrain)\n",
    "y_model = modelo.predict(Xtest)"
   ]
  },
  {
   "cell_type": "markdown",
   "metadata": {},
   "source": [
    "#### Acurácia"
   ]
  },
  {
   "cell_type": "code",
   "execution_count": null,
   "metadata": {},
   "outputs": [],
   "source": [
    "acuracia = accuracy_score(ytest, y_model)\n",
    "print(f'Acurácia do modelo: {acuracia * 100:.2f}%')"
   ]
  },
  {
   "cell_type": "markdown",
   "metadata": {},
   "source": [
    "#### Precisão"
   ]
  },
  {
   "cell_type": "code",
   "execution_count": null,
   "metadata": {},
   "outputs": [],
   "source": [
    "precisao = precision_score(ytest, y_model)\n",
    "print(f'Precisão do modelo: {precisao * 100:.2f}%')"
   ]
  },
  {
   "cell_type": "markdown",
   "metadata": {},
   "source": [
    "#### Recall"
   ]
  },
  {
   "cell_type": "code",
   "execution_count": null,
   "metadata": {},
   "outputs": [],
   "source": [
    "recall = recall_score(ytest, y_model)\n",
    "print(f'recall do modelo: {precisao * 100:.2f}%')"
   ]
  },
  {
   "cell_type": "markdown",
   "metadata": {},
   "source": [
    "#### F1-Score"
   ]
  },
  {
   "cell_type": "code",
   "execution_count": null,
   "metadata": {},
   "outputs": [],
   "source": [
    "f1 = f1_score(ytest, y_model)\n",
    "\n",
    "print(f'F1-score do modelo: {f1 * 100:.2f}%')"
   ]
  },
  {
   "cell_type": "markdown",
   "metadata": {},
   "source": [
    "## Treinamento utilizando validação cruzada"
   ]
  },
  {
   "cell_type": "markdown",
   "metadata": {},
   "source": [
    "### GNB"
   ]
  },
  {
   "cell_type": "markdown",
   "metadata": {},
   "source": [
    "#### Acurácia"
   ]
  },
  {
   "cell_type": "code",
   "execution_count": null,
   "metadata": {},
   "outputs": [],
   "source": [
    "modelo = GaussianNB()\n",
    "\n",
    "kfold = KFold()\n",
    "\n",
    "pontuacoes = cross_val_score(modelo, Xtrain, ytrain, cv = kfold, scoring = 'accuracy')\n",
    "\n",
    "print(\"Pontuações de cada fold:\", pontuacoes)\n",
    "\n",
    "print(f\"Média das pontuações: {pontuacoes.mean() * 100:.2f}%\")\n",
    "\n",
    "print(f\"Desvio padrão das pontuações: {pontuacoes.std() * 100:.2f}%\")"
   ]
  },
  {
   "cell_type": "markdown",
   "metadata": {},
   "source": [
    "#### Precisão"
   ]
  },
  {
   "cell_type": "code",
   "execution_count": null,
   "metadata": {},
   "outputs": [],
   "source": [
    "modelo = GaussianNB()\n",
    "\n",
    "kfold = KFold()\n",
    "\n",
    "pontuacoes = cross_val_score(modelo, Xtrain, ytrain, cv = kfold, scoring = 'precision')\n",
    "\n",
    "print(\"Pontuações de cada fold:\", pontuacoes)\n",
    "\n",
    "print(f\"Média das pontuações: {pontuacoes.mean() * 100:.2f}%\")\n",
    "\n",
    "print(f\"Desvio padrão das pontuações: {pontuacoes.std() * 100:.2f}%\")"
   ]
  },
  {
   "cell_type": "markdown",
   "metadata": {},
   "source": [
    "#### Recall"
   ]
  },
  {
   "cell_type": "code",
   "execution_count": null,
   "metadata": {},
   "outputs": [],
   "source": [
    "modelo = GaussianNB()\n",
    "\n",
    "kfold = KFold()\n",
    "\n",
    "pontuacoes = cross_val_score(modelo, Xtrain, ytrain, cv = kfold, scoring = 'recall')\n",
    "\n",
    "print(\"Pontuações de cada fold:\", pontuacoes)\n",
    "\n",
    "print(f\"Média das pontuações: {pontuacoes.mean() * 100:.2f}%\")\n",
    "\n",
    "print(f\"Desvio padrão das pontuações: {pontuacoes.std() * 100:.2f}%\")"
   ]
  },
  {
   "cell_type": "markdown",
   "metadata": {},
   "source": [
    "#### F1-Score"
   ]
  },
  {
   "cell_type": "code",
   "execution_count": null,
   "metadata": {},
   "outputs": [],
   "source": [
    "modelo = GaussianNB()\n",
    "\n",
    "kfold = KFold()\n",
    "\n",
    "pontuacoes = cross_val_score(modelo, Xtrain, ytrain, cv = kfold, scoring = 'f1')\n",
    "\n",
    "print(\"Pontuações de cada fold:\", pontuacoes)\n",
    "\n",
    "print(f\"Média das pontuações: {pontuacoes.mean() * 100:.2f}%\")\n",
    "\n",
    "print(f\"Desvio padrão das pontuações: {pontuacoes.std() * 100:.2f}%\")"
   ]
  },
  {
   "cell_type": "markdown",
   "metadata": {},
   "source": [
    "### KNN"
   ]
  },
  {
   "cell_type": "markdown",
   "metadata": {},
   "source": [
    "#### Acurácia"
   ]
  },
  {
   "cell_type": "code",
   "execution_count": null,
   "metadata": {},
   "outputs": [],
   "source": [
    "modelo = KNeighborsClassifier()\n",
    "\n",
    "kfold = KFold()\n",
    "\n",
    "pontuacoes = cross_val_score(modelo, Xtrain, ytrain, cv = kfold, scoring = 'accuracy')\n",
    "\n",
    "print(\"Pontuações de cada fold:\", pontuacoes)\n",
    "\n",
    "print(f\"Média das pontuações: {pontuacoes.mean() * 100:.2f}%\")\n",
    "\n",
    "print(f\"Desvio padrão das pontuações: {pontuacoes.std() * 100:.2f}%\")"
   ]
  },
  {
   "cell_type": "markdown",
   "metadata": {},
   "source": [
    "#### Precisão"
   ]
  },
  {
   "cell_type": "code",
   "execution_count": null,
   "metadata": {},
   "outputs": [],
   "source": [
    "modelo = KNeighborsClassifier()\n",
    "\n",
    "kfold = KFold()\n",
    "\n",
    "pontuacoes = cross_val_score(modelo, Xtrain, ytrain, cv = kfold, scoring = 'precision')\n",
    "\n",
    "print(\"Pontuações de cada fold:\", pontuacoes)\n",
    "\n",
    "print(f\"Média das pontuações: {pontuacoes.mean() * 100:.2f}%\")\n",
    "\n",
    "print(f\"Desvio padrão das pontuações: {pontuacoes.std() * 100:.2f}%\")"
   ]
  },
  {
   "cell_type": "markdown",
   "metadata": {},
   "source": [
    "#### Recall"
   ]
  },
  {
   "cell_type": "code",
   "execution_count": null,
   "metadata": {},
   "outputs": [],
   "source": [
    "modelo = KNeighborsClassifier()\n",
    "\n",
    "kfold = KFold()\n",
    "\n",
    "pontuacoes = cross_val_score(modelo, Xtrain, ytrain, cv = kfold, scoring = 'recall')\n",
    "\n",
    "print(\"Pontuações de cada fold:\", pontuacoes)\n",
    "\n",
    "print(f\"Média das pontuações: {pontuacoes.mean() * 100:.2f}%\")\n",
    "\n",
    "print(f\"Desvio padrão das pontuações: {pontuacoes.std() * 100:.2f}%\")"
   ]
  },
  {
   "cell_type": "markdown",
   "metadata": {},
   "source": [
    "#### F1-Score"
   ]
  },
  {
   "cell_type": "code",
   "execution_count": null,
   "metadata": {},
   "outputs": [],
   "source": [
    "modelo = KNeighborsClassifier()\n",
    "\n",
    "kfold = KFold()\n",
    "\n",
    "pontuacoes = cross_val_score(modelo, Xtrain, ytrain, cv = kfold, scoring = 'f1')\n",
    "\n",
    "print(\"Pontuações de cada fold:\", pontuacoes)\n",
    "\n",
    "print(f\"Média das pontuações: {pontuacoes.mean() * 100:.2f}%\")\n",
    "\n",
    "print(f\"Desvio padrão das pontuações: {pontuacoes.std() * 100:.2f}%\")"
   ]
  },
  {
   "cell_type": "markdown",
   "metadata": {},
   "source": [
    "### SVM"
   ]
  },
  {
   "cell_type": "markdown",
   "metadata": {},
   "source": [
    "#### Acurácia"
   ]
  },
  {
   "cell_type": "code",
   "execution_count": null,
   "metadata": {},
   "outputs": [],
   "source": [
    "modelo = SVC(kernel = 'linear', C = 1E10)\n",
    "\n",
    "kfold = KFold()\n",
    "\n",
    "pontuacoes = cross_val_score(modelo, Xtrain, ytrain, cv = kfold, scoring = 'accuracy')\n",
    "\n",
    "print(\"Pontuações de cada fold:\", pontuacoes)\n",
    "\n",
    "print(f\"Média das pontuações: {pontuacoes.mean() * 100:.2f}%\")\n",
    "\n",
    "print(f\"Desvio padrão das pontuações: {pontuacoes.std() * 100:.2f}%\")"
   ]
  },
  {
   "cell_type": "markdown",
   "metadata": {},
   "source": [
    "#### Precisão"
   ]
  },
  {
   "cell_type": "code",
   "execution_count": null,
   "metadata": {},
   "outputs": [],
   "source": [
    "modelo = SVC(kernel = 'linear', C = 1E10)\n",
    "\n",
    "kfold = KFold()\n",
    "\n",
    "pontuacoes = cross_val_score(modelo, Xtrain, ytrain, cv = kfold, scoring = 'precision')\n",
    "\n",
    "print(\"Pontuações de cada fold:\", pontuacoes)\n",
    "\n",
    "print(f\"Média das pontuações: {pontuacoes.mean() * 100:.2f}%\")\n",
    "\n",
    "print(f\"Desvio padrão das pontuações: {pontuacoes.std() * 100:.2f}%\")"
   ]
  },
  {
   "cell_type": "markdown",
   "metadata": {},
   "source": [
    "#### Recall"
   ]
  },
  {
   "cell_type": "code",
   "execution_count": null,
   "metadata": {},
   "outputs": [],
   "source": [
    "modelo = SVC(kernel = 'linear', C = 1E10)\n",
    "\n",
    "kfold = KFold()\n",
    "\n",
    "pontuacoes = cross_val_score(modelo, Xtrain, ytrain, cv = kfold, scoring = 'recall')\n",
    "\n",
    "print(\"Pontuações de cada fold:\", pontuacoes)\n",
    "\n",
    "print(f\"Média das pontuações: {pontuacoes.mean() * 100:.2f}%\")\n",
    "\n",
    "print(f\"Desvio padrão das pontuações: {pontuacoes.std() * 100:.2f}%\")"
   ]
  },
  {
   "cell_type": "markdown",
   "metadata": {},
   "source": [
    "#### F1-Score"
   ]
  },
  {
   "cell_type": "code",
   "execution_count": null,
   "metadata": {},
   "outputs": [],
   "source": [
    "modelo = SVC(kernel = 'linear', C = 1E10)\n",
    "\n",
    "kfold = KFold()\n",
    "\n",
    "pontuacoes = cross_val_score(modelo, Xtrain, ytrain, cv = kfold, scoring = 'f1')\n",
    "\n",
    "print(\"Pontuações de cada fold:\", pontuacoes)\n",
    "\n",
    "print(f\"Média das pontuações: {pontuacoes.mean() * 100:.2f}%\")\n",
    "\n",
    "print(f\"Desvio padrão das pontuações: {pontuacoes.std() * 100:.2f}%\")"
   ]
  },
  {
   "cell_type": "markdown",
   "metadata": {},
   "source": [
    "### Decision Tree"
   ]
  },
  {
   "cell_type": "markdown",
   "metadata": {},
   "source": [
    "####  Acurácia"
   ]
  },
  {
   "cell_type": "code",
   "execution_count": null,
   "metadata": {},
   "outputs": [],
   "source": [
    "modelo = DecisionTreeClassifier()\n",
    "\n",
    "kfold = KFold()\n",
    "\n",
    "pontuacoes = cross_val_score(modelo, Xtrain, ytrain, cv = kfold, scoring = 'accuracy')\n",
    "\n",
    "print(\"Pontuações de cada fold:\", pontuacoes)\n",
    "\n",
    "print(f\"Média das pontuações: {pontuacoes.mean() * 100:.2f}%\")\n",
    "\n",
    "print(f\"Desvio padrão das pontuações: {pontuacoes.std() * 100:.2f}%\")"
   ]
  },
  {
   "cell_type": "markdown",
   "metadata": {},
   "source": [
    "#### Precisão"
   ]
  },
  {
   "cell_type": "code",
   "execution_count": null,
   "metadata": {},
   "outputs": [],
   "source": [
    "modelo = DecisionTreeClassifier()\n",
    "\n",
    "kfold = KFold()\n",
    "\n",
    "pontuacoes = cross_val_score(modelo, Xtrain, ytrain, cv = kfold, scoring = 'precision')\n",
    "\n",
    "print(\"Pontuações de cada fold:\", pontuacoes)\n",
    "\n",
    "print(f\"Média das pontuações: {pontuacoes.mean() * 100:.2f}%\")\n",
    "\n",
    "print(f\"Desvio padrão das pontuações: {pontuacoes.std() * 100:.2f}%\")"
   ]
  },
  {
   "cell_type": "markdown",
   "metadata": {},
   "source": [
    "#### Recall"
   ]
  },
  {
   "cell_type": "code",
   "execution_count": null,
   "metadata": {},
   "outputs": [],
   "source": [
    "modelo = DecisionTreeClassifier()\n",
    "\n",
    "kfold = KFold()\n",
    "\n",
    "pontuacoes = cross_val_score(modelo, Xtrain, ytrain, cv = kfold, scoring = 'recall')\n",
    "\n",
    "print(\"Pontuações de cada fold:\", pontuacoes)\n",
    "\n",
    "print(f\"Média das pontuações: {pontuacoes.mean() * 100:.2f}%\")\n",
    "\n",
    "print(f\"Desvio padrão das pontuações: {pontuacoes.std() * 100:.2f}%\")"
   ]
  },
  {
   "cell_type": "markdown",
   "metadata": {},
   "source": [
    "#### F1-Score"
   ]
  },
  {
   "cell_type": "code",
   "execution_count": null,
   "metadata": {},
   "outputs": [],
   "source": [
    "modelo = DecisionTreeClassifier()\n",
    "\n",
    "kfold = KFold()\n",
    "\n",
    "pontuacoes = cross_val_score(modelo, Xtrain, ytrain, cv = kfold, scoring = 'f1')\n",
    "\n",
    "print(\"Pontuações de cada fold:\", pontuacoes)\n",
    "\n",
    "print(f\"Média das pontuações: {pontuacoes.mean() * 100:.2f}%\")\n",
    "\n",
    "print(f\"Desvio padrão das pontuações: {pontuacoes.std() * 100:.2f}%\")"
   ]
  },
  {
   "cell_type": "markdown",
   "metadata": {},
   "source": [
    "### Random Forest"
   ]
  },
  {
   "cell_type": "markdown",
   "metadata": {},
   "source": [
    "#### Acurácia"
   ]
  },
  {
   "cell_type": "code",
   "execution_count": null,
   "metadata": {},
   "outputs": [],
   "source": [
    "model = RandomForestClassifier()\n",
    "\n",
    "kfold = KFold()\n",
    "\n",
    "pontuacoes = cross_val_score(modelo, Xtrain, ytrain, cv = kfold, scoring = 'accuracy')\n",
    "\n",
    "print(\"Pontuações de cada fold:\", pontuacoes)\n",
    "\n",
    "print(f\"Média das pontuações: {pontuacoes.mean() * 100:.2f}%\")\n",
    "\n",
    "print(f\"Desvio padrão das pontuações: {pontuacoes.std() * 100:.2f}%\")"
   ]
  },
  {
   "cell_type": "markdown",
   "metadata": {},
   "source": [
    "#### Precisão"
   ]
  },
  {
   "cell_type": "code",
   "execution_count": null,
   "metadata": {},
   "outputs": [],
   "source": [
    "modelo = RandomForestClassifier()\n",
    "\n",
    "kfold = KFold()\n",
    "\n",
    "pontuacoes = cross_val_score(modelo, Xtrain, ytrain, cv = kfold, scoring = 'precision')\n",
    "\n",
    "print(\"Pontuações de cada fold:\", pontuacoes)\n",
    "\n",
    "print(f\"Média das pontuações: {pontuacoes.mean() * 100:.2f}%\")\n",
    "\n",
    "print(f\"Desvio padrão das pontuações: {pontuacoes.std() * 100:.2f}%\")"
   ]
  },
  {
   "cell_type": "markdown",
   "metadata": {},
   "source": [
    "#### Recall"
   ]
  },
  {
   "cell_type": "code",
   "execution_count": null,
   "metadata": {},
   "outputs": [],
   "source": [
    "model = RandomForestClassifier()\n",
    "\n",
    "kfold = KFold()\n",
    "\n",
    "pontuacoes = cross_val_score(modelo, Xtrain, ytrain, cv = kfold, scoring = 'recall')\n",
    "\n",
    "print(\"Pontuações de cada fold:\", pontuacoes)\n",
    "\n",
    "print(f\"Média das pontuações: {pontuacoes.mean() * 100:.2f}%\")\n",
    "\n",
    "print(f\"Desvio padrão das pontuações: {pontuacoes.std() * 100:.2f}%\")"
   ]
  },
  {
   "cell_type": "markdown",
   "metadata": {},
   "source": [
    "#### F1-Score"
   ]
  },
  {
   "cell_type": "code",
   "execution_count": null,
   "metadata": {},
   "outputs": [],
   "source": [
    "model = RandomForestClassifier()\n",
    "\n",
    "kfold = KFold()\n",
    "\n",
    "pontuacoes = cross_val_score(modelo, Xtrain, ytrain, cv = kfold, scoring = 'f1')\n",
    "\n",
    "print(\"Pontuações de cada fold:\", pontuacoes)\n",
    "\n",
    "print(f\"Média das pontuações: {pontuacoes.mean() * 100:.2f}%\")\n",
    "\n",
    "print(f\"Desvio padrão das pontuações: {pontuacoes.std() * 100:.2f}%\")"
   ]
  },
  {
   "cell_type": "markdown",
   "metadata": {},
   "source": [
    "## Treinamento permutando hiperparâmetros\n",
    "\n",
    "utilizando GridSearchCV para a busca do melhor hiperparâmetro para cada modelo classificatório"
   ]
  },
  {
   "cell_type": "markdown",
   "metadata": {},
   "source": [
    "### GNB"
   ]
  },
  {
   "cell_type": "markdown",
   "metadata": {},
   "source": [
    "#### Acurácia"
   ]
  },
  {
   "cell_type": "code",
   "execution_count": null,
   "metadata": {},
   "outputs": [],
   "source": [
    "parametros_gnb = {'var_smoothing': [1e-9, 1e-8, 1e-7, 1e-6, 1e-5]}\n",
    "modelo = GridSearchCV(GaussianNB(), parametros_gnb, cv = 5, scoring = 'accuracy')\n",
    "modelo.fit(Xtrain, ytrain)\n",
    "\n",
    "y_model = modelo.predict(Xtest)\n",
    "\n",
    "acuracia = accuracy_score(ytest, y_model)\n",
    "print(f'Acurácia do modelo com o melhor hiperparâmetro: {acuracia * 100:.2f}%')"
   ]
  },
  {
   "cell_type": "markdown",
   "metadata": {},
   "source": [
    "#### Precisão"
   ]
  },
  {
   "cell_type": "code",
   "execution_count": null,
   "metadata": {},
   "outputs": [],
   "source": [
    "parametros_gnb = {'var_smoothing': [1e-9, 1e-8, 1e-7, 1e-6, 1e-5]}\n",
    "modelo = GridSearchCV(GaussianNB(), parametros_gnb, cv = 5, scoring = 'precision')\n",
    "modelo.fit(Xtrain, ytrain)\n",
    "\n",
    "y_model = modelo.predict(Xtest)\n",
    "\n",
    "precisao = precision_score(ytest, y_model)\n",
    "print(f'Precisão do modelo com melhor hiperparâmetro: {precisao * 100:.2f}%')"
   ]
  },
  {
   "cell_type": "markdown",
   "metadata": {},
   "source": [
    "#### Recall"
   ]
  },
  {
   "cell_type": "code",
   "execution_count": null,
   "metadata": {},
   "outputs": [],
   "source": [
    "parametros_gnb = {'var_smoothing': [1e-9, 1e-8, 1e-7, 1e-6, 1e-5]}\n",
    "modelo = GridSearchCV(GaussianNB(), parametros_gnb, cv = 5, scoring = 'recall')\n",
    "modelo.fit(Xtrain, ytrain)\n",
    "\n",
    "y_model = modelo.predict(Xtest)\n",
    "\n",
    "recall = recall_score(ytest, y_model)\n",
    "print(f'Recall do modelo com o melhor hiperparâmetro: {recall * 100:.2f}%')"
   ]
  },
  {
   "cell_type": "markdown",
   "metadata": {},
   "source": [
    "#### F1-score"
   ]
  },
  {
   "cell_type": "code",
   "execution_count": null,
   "metadata": {},
   "outputs": [],
   "source": [
    "parametros_gnb = {'var_smoothing': [1e-9, 1e-8, 1e-7, 1e-6, 1e-5]}\n",
    "modelo = GridSearchCV(GaussianNB(), parametros_gnb, cv = 5, scoring = 'f1')\n",
    "modelo.fit(Xtrain, ytrain)\n",
    "\n",
    "y_model = modelo.predict(Xtest)\n",
    "\n",
    "f1 = f1_score(ytest, y_model)\n",
    "print(f'F1-Score do modelo com o melhor hiperparâmetro: {f1 * 100:.2f}%')"
   ]
  },
  {
   "cell_type": "markdown",
   "metadata": {},
   "source": [
    "### KNN"
   ]
  },
  {
   "cell_type": "markdown",
   "metadata": {},
   "source": [
    "#### Acurácia"
   ]
  },
  {
   "cell_type": "code",
   "execution_count": null,
   "metadata": {},
   "outputs": [],
   "source": [
    "parametros_knn = {'n_neighbors': [3, 5, 7, 9],\n",
    "                  'weights': ['uniform', 'distance'],\n",
    "                  'p': [1, 2]}\n",
    "\n",
    "modelo = GridSearchCV(KNeighborsClassifier(), parametros_knn, cv = 5, scoring = 'accuracy')\n",
    "modelo.fit(Xtrain, ytrain)\n",
    "\n",
    "y_model = modelo.predict(Xtest)\n",
    "\n",
    "acuracia = accuracy_score(ytest, y_model)\n",
    "print(f'Acurácia do modelo com o melhor hiperparâmetro: {acuracia * 100:.2f}%')"
   ]
  },
  {
   "cell_type": "markdown",
   "metadata": {},
   "source": [
    "#### Precisão"
   ]
  },
  {
   "cell_type": "code",
   "execution_count": null,
   "metadata": {},
   "outputs": [],
   "source": [
    "parametros_knn = {'n_neighbors': [3, 5, 7, 9],\n",
    "                  'weights': ['uniform', 'distance'],\n",
    "                  'p': [1, 2]}\n",
    "\n",
    "modelo = GridSearchCV(KNeighborsClassifier(), parametros_knn, cv = 5, scoring = 'precision')\n",
    "modelo.fit(Xtrain, ytrain)\n",
    "\n",
    "y_model = modelo.predict(Xtest)\n",
    "\n",
    "precisao = precision_score(ytest, y_model)\n",
    "print(f'Precisão do modelo com o melhor hiperparâmetro: {precisao * 100:.2f}%')"
   ]
  },
  {
   "cell_type": "markdown",
   "metadata": {},
   "source": [
    "#### Recall"
   ]
  },
  {
   "cell_type": "code",
   "execution_count": null,
   "metadata": {},
   "outputs": [],
   "source": [
    "parametros_knn = {'n_neighbors': [3, 5, 7, 9],\n",
    "                  'weights': ['uniform', 'distance'],\n",
    "                  'p': [1, 2]}\n",
    "\n",
    "modelo = GridSearchCV(KNeighborsClassifier(), parametros_knn, cv = 5, scoring = 'recall')\n",
    "modelo.fit(Xtrain, ytrain)\n",
    "\n",
    "y_model = modelo.predict(Xtest)\n",
    "\n",
    "recall = recall_score(ytest, y_model)\n",
    "print(f'Recall do modelo com o melhor hiperparâmetro: {recall * 100:.2f}%')"
   ]
  },
  {
   "cell_type": "markdown",
   "metadata": {},
   "source": [
    "#### F1-Score"
   ]
  },
  {
   "cell_type": "code",
   "execution_count": null,
   "metadata": {},
   "outputs": [],
   "source": [
    "parametros_knn = {'n_neighbors': [3, 5, 7, 9],\n",
    "                  'weights': ['uniform', 'distance'],\n",
    "                  'p': [1, 2]}\n",
    "\n",
    "modelo = GridSearchCV(KNeighborsClassifier(), parametros_knn, cv = 5, scoring = 'f1')\n",
    "modelo.fit(Xtrain, ytrain)\n",
    "\n",
    "y_model = modelo.predict(Xtest)\n",
    "\n",
    "f1 = f1_score(ytest, y_model)\n",
    "print(f'F1-Score do modelo com o melhor hiperparâmetro: {f1 * 100:.2f}%')"
   ]
  },
  {
   "cell_type": "markdown",
   "metadata": {},
   "source": [
    "### SVM"
   ]
  },
  {
   "cell_type": "markdown",
   "metadata": {},
   "source": [
    "#### Acurácia"
   ]
  },
  {
   "cell_type": "code",
   "execution_count": null,
   "metadata": {},
   "outputs": [],
   "source": [
    "parametros_svm = {'C': [0.1, 1, 10, 100],\n",
    "                  'kernel': ['linear', 'rbf', 'poly'],\n",
    "                  'gamma': ['scale', 'auto', 0.1, 1, 10]}\n",
    "\n",
    "modelo = GridSearchCV(SVC(), parametros_svm, cv = 5, scoring = 'accuracy')\n",
    "modelo.fit(Xtrain, ytrain)\n",
    "\n",
    "y_model = modelo.predict(Xtest)\n",
    "\n",
    "acuracia = accuracy_score(ytest, y_model)\n",
    "\n",
    "print(f'Acurácia do modelo com o melhor hiperparâmetro: {acuracia * 100:.2f}%')\n",
    "\n"
   ]
  },
  {
   "cell_type": "markdown",
   "metadata": {},
   "source": [
    "#### Precisão"
   ]
  },
  {
   "cell_type": "code",
   "execution_count": null,
   "metadata": {},
   "outputs": [],
   "source": [
    "parametros_svm = {'C': [0.1, 1, 10, 100],\n",
    "                  'kernel': ['linear', 'rbf', 'poly'],\n",
    "                  'gamma': ['scale', 'auto', 0.1, 1, 10]}\n",
    "\n",
    "modelo = GridSearchCV(SVC(), parametros_svm, cv = 5, scoring = 'precision')\n",
    "modelo.fit(Xtrain, ytrain)\n",
    "\n",
    "y_model = modelo.predict(Xtest)\n",
    "\n",
    "precisao = precision_score(ytest, y_model)\n",
    "\n",
    "print(f'Precisao do modelo com o melhor hiperparâmetro: {precisao * 100:.2f}%')\n"
   ]
  },
  {
   "cell_type": "markdown",
   "metadata": {},
   "source": [
    "#### Recall"
   ]
  },
  {
   "cell_type": "code",
   "execution_count": null,
   "metadata": {},
   "outputs": [],
   "source": [
    "parametros_svm = {'C': [0.1, 1, 10, 100],\n",
    "                  'kernel': ['linear', 'rbf', 'poly'],\n",
    "                  'gamma': ['scale', 'auto', 0.1, 1, 10]}\n",
    "\n",
    "modelo = GridSearchCV(SVC(), parametros_svm, cv = 5, scoring = 'recall')\n",
    "modelo.fit(Xtrain, ytrain)\n",
    "\n",
    "y_model = modelo.predict(Xtest)\n",
    "\n",
    "recall = recall_score(ytest, y_model)\n",
    "\n",
    "print(f'Recall do modelo com o melhor hiperparâmetro: {recall * 100:.2f}%')\n"
   ]
  },
  {
   "cell_type": "markdown",
   "metadata": {},
   "source": [
    "#### F1-Score"
   ]
  },
  {
   "cell_type": "code",
   "execution_count": null,
   "metadata": {},
   "outputs": [],
   "source": [
    "parametros_svm = {'C': [0.1, 1, 10, 100],\n",
    "                  'kernel': ['linear', 'rbf', 'poly'],\n",
    "                  'gamma': ['scale', 'auto', 0.1, 1, 10]}\n",
    "\n",
    "modelo = GridSearchCV(SVC(), parametros_svm, cv = 5, scoring = 'f1')\n",
    "modelo.fit(Xtrain, ytrain)\n",
    "\n",
    "# y_model = modelo.predict(Xtest)\n",
    "\n",
    "# f1 = f1_score(ytest, y_model)\n",
    "\n",
    "# print(f'F1-Score do modelo com o melhor hiperparâmetro: {f1 * 100:.2f}%')\n",
    "\n",
    "modelo.best_params_\n"
   ]
  },
  {
   "cell_type": "markdown",
   "metadata": {},
   "source": [
    "### Decision Tree"
   ]
  },
  {
   "cell_type": "markdown",
   "metadata": {},
   "source": [
    "#### Acurácia"
   ]
  },
  {
   "cell_type": "code",
   "execution_count": null,
   "metadata": {},
   "outputs": [],
   "source": [
    "parametros_decision_tree = {'criterion': ['gini', 'entropy'],\n",
    "                            'max_depth': [None, 10, 20, 30, 40, 50],\n",
    "                            'min_samples_split': [2, 5, 10],\n",
    "                            'min_samples_leaf': [1, 2, 4]}\n",
    "\n",
    "modelo = GridSearchCV(DecisionTreeClassifier(), parametros_decision_tree, cv = 5, scoring = 'accuracy')\n",
    "modelo.fit(Xtrain, ytrain)\n",
    "\n",
    "y_model = modelo.predict(Xtest)\n",
    "\n",
    "acuracia = accuracy_score(ytest, y_model)\n",
    "\n",
    "print(f'Acurácia do modelo com o melhor hiperparâmetro: {acuracia * 100:.2f}%')"
   ]
  },
  {
   "cell_type": "markdown",
   "metadata": {},
   "source": [
    "#### Precisão"
   ]
  },
  {
   "cell_type": "code",
   "execution_count": null,
   "metadata": {},
   "outputs": [],
   "source": [
    "parametros_decision_tree = {'criterion': ['gini', 'entropy'],\n",
    "                            'max_depth': [None, 10, 20, 30, 40, 50],\n",
    "                            'min_samples_split': [2, 5, 10],\n",
    "                            'min_samples_leaf': [1, 2, 4]}\n",
    "\n",
    "modelo = GridSearchCV(DecisionTreeClassifier(), parametros_decision_tree, cv = 5, scoring = 'precision')\n",
    "modelo.fit(Xtrain, ytrain)\n",
    "\n",
    "y_model = modelo.predict(Xtest)\n",
    "\n",
    "precisao = precision_score(ytest, y_model)\n",
    "\n",
    "print(f'Precisão do modelo com o melhor hiperparâmetro: {precisao * 100:.2f}%')"
   ]
  },
  {
   "cell_type": "markdown",
   "metadata": {},
   "source": [
    "####  Recall"
   ]
  },
  {
   "cell_type": "code",
   "execution_count": null,
   "metadata": {},
   "outputs": [],
   "source": [
    "parametros_decision_tree = {'criterion': ['gini', 'entropy'],\n",
    "                            'max_depth': [None, 10, 20, 30, 40, 50],\n",
    "                            'min_samples_split': [2, 5, 10],\n",
    "                            'min_samples_leaf': [1, 2, 4]}\n",
    "\n",
    "modelo = GridSearchCV(DecisionTreeClassifier(), parametros_decision_tree, cv = 5, scoring = 'recall')\n",
    "modelo.fit(Xtrain, ytrain)\n",
    "\n",
    "y_model = modelo.predict(Xtest)\n",
    "\n",
    "recall = recall_score(ytest, y_model)\n",
    "\n",
    "print(f'Recall do modelo com o melhor hiperparâmetro: {recall * 100:.2f}%')"
   ]
  },
  {
   "cell_type": "markdown",
   "metadata": {},
   "source": [
    "#### F1-Score"
   ]
  },
  {
   "cell_type": "code",
   "execution_count": null,
   "metadata": {},
   "outputs": [],
   "source": [
    "parametros_decision_tree = {'criterion': ['gini', 'entropy'],\n",
    "                            'max_depth': [None, 10, 20, 30, 40, 50],\n",
    "                            'min_samples_split': [2, 5, 10],\n",
    "                            'min_samples_leaf': [1, 2, 4]}\n",
    "\n",
    "modelo = GridSearchCV(DecisionTreeClassifier(), parametros_decision_tree, cv = 5, scoring = 'f1')\n",
    "modelo.fit(Xtrain, ytrain)\n",
    "\n",
    "y_model = modelo.predict(Xtest)\n",
    "\n",
    "f1 = f1_score(ytest, y_model)\n",
    "\n",
    "print(f'F1-Score do modelo com o melhor hiperparâmetro: {f1 * 100:.2f}%')"
   ]
  },
  {
   "cell_type": "markdown",
   "metadata": {},
   "source": [
    "### Random Forest"
   ]
  },
  {
   "cell_type": "markdown",
   "metadata": {},
   "source": [
    "#### Acurácia"
   ]
  },
  {
   "cell_type": "code",
   "execution_count": null,
   "metadata": {},
   "outputs": [],
   "source": [
    "parametros_random_forest = {'n_estimators': [50, 100, 150],\n",
    "                             'criterion': ['gini', 'entropy'],\n",
    "                             'max_depth': [None, 10, 20, 30, 40, 50],\n",
    "                             'min_samples_split': [2, 5, 10],\n",
    "                             'min_samples_leaf': [1, 2, 4],\n",
    "                             'max_features': ['auto', 'sqrt', 'log2']}\n",
    "\n",
    "modelo = GridSearchCV(RandomForestClassifier(), parametros_decision_tree, cv = 5, scoring = 'accuracy')\n",
    "modelo.fit(Xtrain, ytrain)\n",
    "\n",
    "y_model = modelo.predict(Xtest)\n",
    "\n",
    "acuracia = accuracy_score(ytest, y_model)\n",
    "\n",
    "print(f'Acurácia do modelo com o melhor hiperparâmetro: {acuracia * 100:.2f}%')"
   ]
  },
  {
   "cell_type": "markdown",
   "metadata": {},
   "source": [
    "#### Precisão"
   ]
  },
  {
   "cell_type": "code",
   "execution_count": null,
   "metadata": {},
   "outputs": [],
   "source": [
    "parametros_random_forest = {'n_estimators': [50, 100, 150],\n",
    "                             'criterion': ['gini', 'entropy'],\n",
    "                             'max_depth': [None, 10, 20, 30, 40, 50],\n",
    "                             'min_samples_split': [2, 5, 10],\n",
    "                             'min_samples_leaf': [1, 2, 4],\n",
    "                             'max_features': ['auto', 'sqrt', 'log2']}\n",
    "\n",
    "modelo = GridSearchCV(RandomForestClassifier(), parametros_decision_tree, cv = 5, scoring = 'precision')\n",
    "modelo.fit(Xtrain, ytrain)\n",
    "\n",
    "y_model = modelo.predict(Xtest)\n",
    "\n",
    "precisao = precision_score(ytest, y_model)\n",
    "\n",
    "print(f'Precisão do modelo com o melhor hiperparâmetro: {precisao * 100:.2f}%')"
   ]
  },
  {
   "cell_type": "markdown",
   "metadata": {},
   "source": [
    "#### Recall"
   ]
  },
  {
   "cell_type": "code",
   "execution_count": null,
   "metadata": {},
   "outputs": [],
   "source": [
    "parametros_random_forest = {'n_estimators': [50, 100, 150],\n",
    "                             'criterion': ['gini', 'entropy'],\n",
    "                             'max_depth': [None, 10, 20, 30, 40, 50],\n",
    "                             'min_samples_split': [2, 5, 10],\n",
    "                             'min_samples_leaf': [1, 2, 4],\n",
    "                             'max_features': ['auto', 'sqrt', 'log2']}\n",
    "\n",
    "modelo = GridSearchCV(RandomForestClassifier(), parametros_decision_tree, cv = 5, scoring = 'recall')\n",
    "modelo.fit(Xtrain, ytrain)\n",
    "\n",
    "y_model = modelo.predict(Xtest)\n",
    "\n",
    "recall = recall_score(ytest, y_model)\n",
    "\n",
    "print(f'Recall do modelo com o melhor hiperparâmetro: {recall * 100:.2f}%')"
   ]
  },
  {
   "cell_type": "markdown",
   "metadata": {},
   "source": [
    "#### F1-Score"
   ]
  },
  {
   "cell_type": "code",
   "execution_count": null,
   "metadata": {},
   "outputs": [],
   "source": [
    "parametros_random_forest = {'n_estimators': [50, 100, 150],\n",
    "                             'criterion': ['gini', 'entropy'],\n",
    "                             'max_depth': [None, 10, 20, 30, 40, 50],\n",
    "                             'min_samples_split': [2, 5, 10],\n",
    "                             'min_samples_leaf': [1, 2, 4],\n",
    "                             'max_features': ['auto', 'sqrt', 'log2']}\n",
    "\n",
    "modelo = GridSearchCV(RandomForestClassifier(), parametros_decision_tree, cv = 5, scoring = 'f1')\n",
    "modelo.fit(Xtrain, ytrain)\n",
    "\n",
    "y_model = modelo.predict(Xtest)\n",
    "\n",
    "f1 = f1_score(ytest, y_model)\n",
    "\n",
    "print(f'F1-Score do modelo com o melhor hiperparâmetro: {f1 * 100:.2f}%')"
   ]
  },
  {
   "cell_type": "markdown",
   "metadata": {
    "jp-MarkdownHeadingCollapsed": true
   },
   "source": [
    "# 5. Análise dos resultados:"
   ]
  },
  {
   "cell_type": "markdown",
   "metadata": {},
   "source": [
    "## Resultados"
   ]
  },
  {
   "cell_type": "markdown",
   "metadata": {},
   "source": [
    "### Utilizando métricas de desempenho de classificação"
   ]
  },
  {
   "cell_type": "markdown",
   "metadata": {},
   "source": [
    "#### GNB"
   ]
  },
  {
   "cell_type": "markdown",
   "metadata": {},
   "source": [
    "* Acurácia: 81.25%"
   ]
  },
  {
   "cell_type": "markdown",
   "metadata": {},
   "source": [
    "* Precisão: 37.50%"
   ]
  },
  {
   "cell_type": "markdown",
   "metadata": {},
   "source": [
    "* Recall: 37.50%"
   ]
  },
  {
   "cell_type": "markdown",
   "metadata": {},
   "source": [
    "* F1-Score: 50%"
   ]
  },
  {
   "cell_type": "markdown",
   "metadata": {},
   "source": [
    "#### KNN"
   ]
  },
  {
   "cell_type": "markdown",
   "metadata": {},
   "source": [
    "*  Acurácia: 68.75%"
   ]
  },
  {
   "cell_type": "markdown",
   "metadata": {},
   "source": [
    "* Precisão: 33.33%"
   ]
  },
  {
   "cell_type": "markdown",
   "metadata": {},
   "source": [
    "* Recall: 33.33%"
   ]
  },
  {
   "cell_type": "markdown",
   "metadata": {},
   "source": [
    "* F1-Score: 28.57%"
   ]
  },
  {
   "cell_type": "markdown",
   "metadata": {},
   "source": [
    "#### SVM(Linear)"
   ]
  },
  {
   "cell_type": "markdown",
   "metadata": {},
   "source": [
    "* Acurácia: 65.62%"
   ]
  },
  {
   "cell_type": "markdown",
   "metadata": {},
   "source": [
    "* Precisão: 38.46%"
   ]
  },
  {
   "cell_type": "markdown",
   "metadata": {},
   "source": [
    "* Recall: 38.46%"
   ]
  },
  {
   "cell_type": "markdown",
   "metadata": {},
   "source": [
    "* F1-Score: 47.62%"
   ]
  },
  {
   "cell_type": "markdown",
   "metadata": {},
   "source": [
    "#### Decision Tree"
   ]
  },
  {
   "cell_type": "markdown",
   "metadata": {},
   "source": [
    "* Acurácia: 62.50%"
   ]
  },
  {
   "cell_type": "markdown",
   "metadata": {},
   "source": [
    "* Precisão: 25%"
   ]
  },
  {
   "cell_type": "markdown",
   "metadata": {},
   "source": [
    "* Recall: 25%"
   ]
  },
  {
   "cell_type": "markdown",
   "metadata": {},
   "source": [
    "* F1-Score: 25%"
   ]
  },
  {
   "cell_type": "markdown",
   "metadata": {},
   "source": [
    "#### Random Forest"
   ]
  },
  {
   "cell_type": "markdown",
   "metadata": {},
   "source": [
    "* Acurácia: 84.38%"
   ]
  },
  {
   "cell_type": "markdown",
   "metadata": {},
   "source": [
    "* Precisão: 100%"
   ]
  },
  {
   "cell_type": "markdown",
   "metadata": {},
   "source": [
    "* Recall: 100%"
   ]
  },
  {
   "cell_type": "markdown",
   "metadata": {},
   "source": [
    "* F1-Score: 54.55%"
   ]
  },
  {
   "cell_type": "markdown",
   "metadata": {},
   "source": [
    "### Utilizando a seleção de melhores hiperparâmetros"
   ]
  },
  {
   "cell_type": "markdown",
   "metadata": {},
   "source": [
    "#### GNB"
   ]
  },
  {
   "cell_type": "markdown",
   "metadata": {},
   "source": [
    "*  Acurácia: 81.25%"
   ]
  },
  {
   "cell_type": "markdown",
   "metadata": {},
   "source": [
    "* Precisão: 37.50%"
   ]
  },
  {
   "cell_type": "markdown",
   "metadata": {},
   "source": [
    "* Recall: 75.00%"
   ]
  },
  {
   "cell_type": "markdown",
   "metadata": {},
   "source": [
    "* F1-Score: 50.00%"
   ]
  },
  {
   "cell_type": "markdown",
   "metadata": {},
   "source": [
    "#### KNN"
   ]
  },
  {
   "cell_type": "markdown",
   "metadata": {},
   "source": [
    "*  Acurácia: 71.88%"
   ]
  },
  {
   "cell_type": "markdown",
   "metadata": {},
   "source": [
    "* Precisão: 42.86%"
   ]
  },
  {
   "cell_type": "markdown",
   "metadata": {},
   "source": [
    "* Recall: 37.50%"
   ]
  },
  {
   "cell_type": "markdown",
   "metadata": {},
   "source": [
    "* F1-Score: 37.50%"
   ]
  },
  {
   "cell_type": "markdown",
   "metadata": {},
   "source": [
    "#### SVM"
   ]
  },
  {
   "cell_type": "markdown",
   "metadata": {},
   "source": [
    "* Acurácia: 84.38%"
   ]
  },
  {
   "cell_type": "markdown",
   "metadata": {},
   "source": [
    "* Precisão: 71.43%"
   ]
  },
  {
   "cell_type": "markdown",
   "metadata": {},
   "source": [
    "* Recall: 62.50%"
   ]
  },
  {
   "cell_type": "markdown",
   "metadata": {},
   "source": [
    "* F1-Score: 66.67%"
   ]
  },
  {
   "cell_type": "markdown",
   "metadata": {},
   "source": [
    "#### Decision Tree"
   ]
  },
  {
   "cell_type": "markdown",
   "metadata": {},
   "source": [
    "*  Acurácia: 71.88%"
   ]
  },
  {
   "cell_type": "markdown",
   "metadata": {},
   "source": [
    "* Precisão: 50.00%"
   ]
  },
  {
   "cell_type": "markdown",
   "metadata": {},
   "source": [
    "* Recall: 25.00%"
   ]
  },
  {
   "cell_type": "markdown",
   "metadata": {},
   "source": [
    "* F1-Score: 26.67%"
   ]
  },
  {
   "cell_type": "markdown",
   "metadata": {},
   "source": [
    "#### Random Forest"
   ]
  },
  {
   "cell_type": "markdown",
   "metadata": {},
   "source": [
    "*  Acurácia: 75.00%"
   ]
  },
  {
   "cell_type": "markdown",
   "metadata": {},
   "source": [
    "* Precisão: 100%"
   ]
  },
  {
   "cell_type": "markdown",
   "metadata": {},
   "source": [
    "* Recall: 0%"
   ]
  },
  {
   "cell_type": "markdown",
   "metadata": {},
   "source": [
    "* F1-Score: 36.36%"
   ]
  },
  {
   "cell_type": "markdown",
   "metadata": {},
   "source": [
    "### Utilizando Validação cruzada"
   ]
  },
  {
   "cell_type": "markdown",
   "metadata": {},
   "source": [
    "#### GNB"
   ]
  },
  {
   "cell_type": "markdown",
   "metadata": {},
   "source": [
    "* Acurácia: 63.57%  ;  Desvio padrão: 9.23%\n"
   ]
  },
  {
   "cell_type": "markdown",
   "metadata": {},
   "source": [
    "* Precisão: 45.00% ;  Desvio padrão: 22.88%"
   ]
  },
  {
   "cell_type": "markdown",
   "metadata": {},
   "source": [
    "* Recall: 47.38% ; Desvio Padrão: 19.41%"
   ]
  },
  {
   "cell_type": "markdown",
   "metadata": {},
   "source": [
    "* F1-Score: 42.80% ; Desvio Padrão: 17.76%"
   ]
  },
  {
   "cell_type": "markdown",
   "metadata": {},
   "source": [
    "#### KNN"
   ]
  },
  {
   "cell_type": "markdown",
   "metadata": {},
   "source": [
    "*  Acurácia: 56.90% ;  Desvio Padrão: 7.90%\n"
   ]
  },
  {
   "cell_type": "markdown",
   "metadata": {},
   "source": [
    "* Precisão: 45.00% ;  Desvio Padrão: 21.33%"
   ]
  },
  {
   "cell_type": "markdown",
   "metadata": {},
   "source": [
    "* Recall: 16.75% ; Desvio Padrão: 11.50%"
   ]
  },
  {
   "cell_type": "markdown",
   "metadata": {},
   "source": [
    "* F1-Score: 15.97%; Desvio Padrão: 8.46%"
   ]
  },
  {
   "cell_type": "markdown",
   "metadata": {},
   "source": [
    "#### SVM"
   ]
  },
  {
   "cell_type": "markdown",
   "metadata": {},
   "source": [
    "* Acurácia: 56.90% ;  Desvio Padrão: 5.40%\n"
   ]
  },
  {
   "cell_type": "markdown",
   "metadata": {},
   "source": [
    "* Precisão: 32.21% ;  Desvio Padrão: 14.67%"
   ]
  },
  {
   "cell_type": "markdown",
   "metadata": {},
   "source": [
    "* Recall: 35.08% ; Desvio Padrão: 12.24%"
   ]
  },
  {
   "cell_type": "markdown",
   "metadata": {},
   "source": [
    "* F1-Score: 31.51% ; Desvio Padrão: 11.22%"
   ]
  },
  {
   "cell_type": "markdown",
   "metadata": {},
   "source": [
    "#### Decision Tree"
   ]
  },
  {
   "cell_type": "markdown",
   "metadata": {},
   "source": [
    "*  Acurácia: 63.45%  ;  Desvio Padrão: 12.14%\n"
   ]
  },
  {
   "cell_type": "markdown",
   "metadata": {},
   "source": [
    "* Precisão: 31.17% ;  Desvio Padrão: 27.42%"
   ]
  },
  {
   "cell_type": "markdown",
   "metadata": {},
   "source": [
    "* Recall: 41.75%; Desvio Padrão: 34.54%"
   ]
  },
  {
   "cell_type": "markdown",
   "metadata": {},
   "source": [
    "* F1-Score: 34.00% ; Desvio Padrão: 30.72%"
   ]
  },
  {
   "cell_type": "markdown",
   "metadata": {},
   "source": [
    "#### Random Forest"
   ]
  },
  {
   "cell_type": "markdown",
   "metadata": {},
   "source": [
    "*  Acurácia: 68.71%  ;  Desvio Padrão: 15.66%\n"
   ]
  },
  {
   "cell_type": "markdown",
   "metadata": {},
   "source": [
    " * Precisão: 13.33% ;  Desvio Padrão: 26.67%"
   ]
  },
  {
   "cell_type": "markdown",
   "metadata": {},
   "source": [
    "* Recall: 5.08%; Desvio Padrão: 6.30%"
   ]
  },
  {
   "cell_type": "markdown",
   "metadata": {},
   "source": [
    "* F1-Score: 17.33% ; Desvio Padrão: 25.85%"
   ]
  },
  {
   "cell_type": "markdown",
   "metadata": {},
   "source": [
    "## Análise dos Resultados"
   ]
  },
  {
   "cell_type": "markdown",
   "metadata": {},
   "source": [
    "Utilizando acurácia e F1-score como parâmetros de avaliação, observou-se um aumento na comparabilidade dos modelos, especialmente destacando-se Floresta Aleatória e Árvores de Decisão, que inicialmente apresentaram as melhores pontuações, mas tiveram resultados inferiores no segundo teste.\n",
    "\n",
    "Ao empregar a avaliação por validação cruzada, notou-se um elevado desvio padrão, sobretudo nos modelos de Floresta Aleatória e Árvores de Decisão, indicando uma falta de confiabilidade devido às pontuações baixas e desvio padrão expressivo. Considerando os resultados anteriores, desaconselha-se o uso desses modelos.\n",
    "\n",
    "GNB, KNN e Máquina de Vetores de Suporte obtiveram as melhores pontuações de desempenho, mesmo apresentando um desvio padrão ligeiramente acima do comum. Sua razoável maior compatibilidade sugere boa capacidade de generalização, adequação ao problema e robustez a diferentes conjuntos de dados.\n",
    "\n",
    "O alto valor no desvio padrão na avaliação por validação cruzada pode ser atribuído à possível sensibilidade do modelo aos conjuntos de treinamento, diversidade nos dados e, principalmente, aos hiperparâmetros, uma vez que houve uma queda significativa no desempenho durante as avaliações de métricas e hiperparâmetros.\n",
    "\n",
    "Sobretudo, é mais provável que os dados sigam uma distribuição gaussiana e apresentem relações lineares. Isso é indicado pelo desempenho destacado dos dois melhores modelos no geral: Gaussian Naive Bayes e Máquina de Vetores de Suporte, especialmente quando o kernel escolhido é linear. Esses resultados sugerem uma adaptação eficaz desses modelos às características lineares e à suposição de normalidade nos dados. "
   ]
  }
 ],
 "metadata": {
  "kernelspec": {
   "display_name": "Python 3 (ipykernel)",
   "language": "python",
   "name": "python3"
  },
  "language_info": {
   "codemirror_mode": {
    "name": "ipython",
    "version": 3
   },
   "file_extension": ".py",
   "mimetype": "text/x-python",
   "name": "python",
   "nbconvert_exporter": "python",
   "pygments_lexer": "ipython3",
   "version": "3.10.12"
  }
 },
 "nbformat": 4,
 "nbformat_minor": 4
}
